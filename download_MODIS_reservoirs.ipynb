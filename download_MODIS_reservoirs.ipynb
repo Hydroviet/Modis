{
 "cells": [
  {
   "cell_type": "code",
   "execution_count": 1,
   "metadata": {},
   "outputs": [],
   "source": [
    "import numpy as np\n",
    "import matplotlib.pyplot as plt\n",
    "import pandas as pd\n",
    "import geopandas as gpd\n",
    "\n",
    "import requests\n",
    "import json\n",
    "from datetime import datetime"
   ]
  },
  {
   "cell_type": "markdown",
   "metadata": {},
   "source": [
    "# Prepair shapefile data\n",
    "You need to prepair a shapefile of your the regions you want to download. It may have many columns, but the most important and must-appear is geometry column."
   ]
  },
  {
   "cell_type": "code",
   "execution_count": 2,
   "metadata": {},
   "outputs": [],
   "source": [
    "mekongReservoirs = gpd.read_file('mekongReservoirs')"
   ]
  },
  {
   "cell_type": "code",
   "execution_count": 3,
   "metadata": {},
   "outputs": [
    {
     "data": {
      "text/plain": [
       "Index(['Lake_name', 'Country', 'Lake_area', 'geometry'], dtype='object')"
      ]
     },
     "execution_count": 3,
     "metadata": {},
     "output_type": "execute_result"
    }
   ],
   "source": [
    "mekongReservoirs.columns"
   ]
  },
  {
   "cell_type": "code",
   "execution_count": 4,
   "metadata": {},
   "outputs": [],
   "source": [
    "top3LargestReservoirs = mekongReservoirs.iloc[:3]"
   ]
  },
  {
   "cell_type": "code",
   "execution_count": 8,
   "metadata": {},
   "outputs": [],
   "source": [
    "top10LargestReservoirs = mekongReservoirs.iloc[:10]"
   ]
  },
  {
   "cell_type": "code",
   "execution_count": 9,
   "metadata": {},
   "outputs": [],
   "source": [
    "top3To10LargestReservoirs = mekongReservoirs.iloc[3:10]"
   ]
  },
  {
   "cell_type": "markdown",
   "metadata": {},
   "source": [
    "# GetModisData class\n",
    "A class for easy download a subset of modis data. You only have to learn how to use the method:  \n",
    "`GetModisData.createOrderURLURL(reservoirsGeoDataFrame, modisProductCode, email, recreateDownloadFile)`."
   ]
  },
  {
   "cell_type": "code",
   "execution_count": 10,
   "metadata": {},
   "outputs": [],
   "source": [
    "class GetModisData:\n",
    "    url = \"https://modis.ornl.gov/rst/api/v1/\"\n",
    "    header = {'Accept': 'application/json'} # Use following for a csv response: header = {'Accept': 'text/csv'}\n",
    "    subsetUrl = 'https://modis.ornl.gov/subsetdata/'\n",
    "    \n",
    "    def calDistanceInKm(point1, point2):\n",
    "        import pyproj\n",
    "        geod = pyproj.Geod(ellps='WGS84')\n",
    "        angle1, angle2, distance = geod.inv(point1.x, point1.y, point2.x, point2.y)\n",
    "        return distance/1000\n",
    "\n",
    "    \n",
    "    def findBorderRect_1(polygon):\n",
    "        from shapely.geometry import Point\n",
    "        xmin, ymin, xmax, ymax = polygon.bounds\n",
    "\n",
    "        topLeft = Point(xmin, ymax)\n",
    "        bottomLeft = Point(xmin, ymin)\n",
    "        topRight = Point(xmax, ymax)\n",
    "        bottomRight = Point(xmax, ymin)\n",
    "        vertices = [topLeft, topRight, bottomLeft, bottomRight]\n",
    "\n",
    "        centroid = polygon.centroid\n",
    "        kmAboveBelow = kmLeftRight \\\n",
    "                     = np.int32(np.ceil(max([GetModisData.calDistanceInKm(centroid, v) for v in vertices])))\n",
    "        return centroid, kmAboveBelow, kmLeftRight\n",
    "    \n",
    "    \n",
    "    def getMODISDate(reservoirRowDf):\n",
    "        # Submit request\n",
    "        row = reservoirRowDf\n",
    "        response = requests.get(GetModisData.url\n",
    "                                + row['product'] \n",
    "                                + '/dates?latitude=' + str(row['latitude']) \n",
    "                                + '&longitude='+ str(row['longitude']), headers=GetModisData.header)\n",
    "\n",
    "        # Get dates object as list of python dictionaries\n",
    "        dates = json.loads(response.text)['dates'] \n",
    "\n",
    "        # Convert to list of tuples; change calendar_date key values to datetimes\n",
    "        dates = [(datetime.strptime(date['calendar_date'], \"%Y-%m-%d\"), date['modis_date']) for date in dates]\n",
    "\n",
    "        # Get MODIS dates nearest to start_date and end_date and add to new pandas columns\n",
    "        start_MODIS_date = min(date[1] for date in dates if date[0] > row['start_date'])\n",
    "        end_MODIS_date = max(date[1] for date in dates if date[0] < row['end_date'])\n",
    "\n",
    "        return start_MODIS_date, end_MODIS_date\n",
    "    \n",
    "    \n",
    "    def createReservoirsDownloadDataframe(reservoirsGeoDataFrame, productCode, email):\n",
    "        df = pd.DataFrame(columns=['site_id', 'product', 'latitude', 'longitude', \n",
    "                                   'email', 'start_date', 'end_date',\n",
    "                                   'kmAboveBelow', 'kmLeftRight', 'order_uid'])\n",
    "        \n",
    "        default_start_date = pd.to_datetime('2000-01-01')\n",
    "        default_end_date = pd.to_datetime('2018-07-25')\n",
    "        \n",
    "        for index, reservoirRow in reservoirsGeoDataFrame.iterrows():\n",
    "            center, kmAboveBelow, kmLeftRight = GetModisData.findBorderRect_1(reservoirRow.geometry)\n",
    "            row = {'site_id': 'site{}'.format(index),\n",
    "                    'product': productCode,\n",
    "                    'latitude': center.y,\n",
    "                    'longitude': center.x,\n",
    "                    'email': email,\n",
    "                    'start_date': default_start_date,\n",
    "                    'end_date': default_end_date,\n",
    "                    'kmAboveBelow': kmAboveBelow,\n",
    "                    'kmLeftRight': kmLeftRight,\n",
    "                    'order_uid': 'None'}\n",
    "            \n",
    "            row['start_date'], row['end_date'] = GetModisData.getMODISDate(row)\n",
    "            df = df.append(row, ignore_index=True)\n",
    "        return df\n",
    "    \n",
    "    \n",
    "    def createOrderURL_1(reservoirsDownloadDf, downloadFileResult=None):\n",
    "        # Make list to collect order UIDs\n",
    "        order_uids = []\n",
    "        productCode = reservoirsDownloadDf.loc[0, 'product']\n",
    "        \n",
    "        for index, row in reservoirsDownloadDf.iterrows():\n",
    "            if row['order_uid'] == 'None':\n",
    "                # Build request URL\n",
    "                requestURL = GetModisData.url + productCode \\\n",
    "                                              + \"/subsetOrder?latitude=\" + str(row['latitude']) \\\n",
    "                                              + \"&longitude=\" + str(row['longitude']) \\\n",
    "                                              + \"&email=\" + row['email'] \\\n",
    "                                              + \"&uid=\" + row['site_id'] \\\n",
    "                                              + \"&startDate=\" + row['start_date'] \\\n",
    "                                              + \"&endDate=\" + row['end_date'] \\\n",
    "                                              + \"&kmAboveBelow=\" + str(row['kmAboveBelow']) \\\n",
    "                                              + \"&kmLeftRight=\" + str(row['kmLeftRight'])\n",
    "\n",
    "                print(requestURL)\n",
    "                # Submit request\n",
    "                response = requests.get(requestURL, headers=GetModisData.header)\n",
    "                try:\n",
    "                    order_uid = GetModisData.subsetUrl + json.loads(response.text)['order_id']\n",
    "                except TypeError as err:\n",
    "                    print(response.text)\n",
    "                    break\n",
    "\n",
    "                # Append UID to list\n",
    "                order_uids.append(order_uid)\n",
    "                reservoirsDownloadDf.loc[index, 'order_uid'] = order_uid\n",
    "\n",
    "        print(order_uids)\n",
    "        if downloadFileResult is None:\n",
    "            reservoirsDownloadDf.to_csv(productCode + '.csv')\n",
    "        else:\n",
    "            reservoirsDownloadDf.to_csv(downloadFileResult + '.csv')\n",
    "        return order_uids\n",
    "    \n",
    "    \n",
    "    def createOrderURL(reservoirsGeoDataFrame, modisProductCode='MOD13Q1', \n",
    "                       email='lamductan@gmail.com', recreateDownloadFile=False,\n",
    "                       downloadFileResult=None):\n",
    "        import os\n",
    "        if downloadFileResult is None:\n",
    "            downloadFileResult = modisProductCode\n",
    "        if not os.path.exists(downloadFileResult + '.csv') or recreateDownloadFile:\n",
    "            reservoirsDownloadDf = GetModisData.createReservoirsDownloadDataframe(reservoirsGeoDataFrame, \n",
    "                                                                                modisProductCode, email)\n",
    "            reservoirsDownloadDf.to_csv(downloadFileResult + '.csv')\n",
    "        else:\n",
    "            reservoirsDownloadDf = pd.read_csv(downloadFileResult + '.csv')\n",
    "        return GetModisData.createOrderURL_1(reservoirsDownloadDf, downloadFileResult)"
   ]
  },
  {
   "cell_type": "markdown",
   "metadata": {},
   "source": [
    "# Example how to use GetModisClass"
   ]
  },
  {
   "cell_type": "code",
   "execution_count": 11,
   "metadata": {},
   "outputs": [
    {
     "name": "stdout",
     "output_type": "stream",
     "text": [
      "https://modis.ornl.gov/rst/api/v1/MOD13Q1/subsetOrder?latitude=16.729528722980266&longitude=102.53383782042863&email=1512489@student.hcmus.edu.vn&uid=site3&startDate=A2000049&endDate=A2018177&kmAboveBelow=31&kmLeftRight=31\n",
      "https://modis.ornl.gov/rst/api/v1/MOD13Q1/subsetOrder?latitude=16.748836915920027&longitude=103.43834851186996&email=1512489@student.hcmus.edu.vn&uid=site4&startDate=A2000049&endDate=A2018177&kmAboveBelow=37&kmLeftRight=37\n",
      "https://modis.ornl.gov/rst/api/v1/MOD13Q1/subsetOrder?latitude=15.044525697834212&longitude=105.3816076514864&email=1512489@student.hcmus.edu.vn&uid=site5&startDate=A2000049&endDate=A2018177&kmAboveBelow=29&kmLeftRight=29\n",
      "https://modis.ornl.gov/rst/api/v1/MOD13Q1/subsetOrder?latitude=24.699463586321087&longitude=100.34201766875154&email=1512489@student.hcmus.edu.vn&uid=site6&startDate=A2000049&endDate=A2018177&kmAboveBelow=27&kmLeftRight=27\n",
      "https://modis.ornl.gov/rst/api/v1/MOD13Q1/subsetOrder?latitude=19.169775127740934&longitude=99.87569501737315&email=1512489@student.hcmus.edu.vn&uid=site7&startDate=A2000049&endDate=A2018177&kmAboveBelow=6&kmLeftRight=6\n",
      "https://modis.ornl.gov/rst/api/v1/MOD13Q1/subsetOrder?latitude=18.30973183965102&longitude=103.68252557065354&email=1512489@student.hcmus.edu.vn&uid=site8&startDate=A2000049&endDate=A2018177&kmAboveBelow=7&kmLeftRight=7\n",
      "https://modis.ornl.gov/rst/api/v1/MOD13Q1/subsetOrder?latitude=18.267442333709127&longitude=102.43816560472207&email=1512489@student.hcmus.edu.vn&uid=site9&startDate=A2000049&endDate=A2018177&kmAboveBelow=6&kmLeftRight=6\n",
      "['https://modis.ornl.gov/subsetdata/27Jul2018_10:08:33_880913557L16.729528723L102.53383782S249L249_MOD13Q1_site3', 'https://modis.ornl.gov/subsetdata/27Jul2018_10:08:36_317256972L16.7488369159L103.438348512S297L297_MOD13Q1_site4', 'https://modis.ornl.gov/subsetdata/27Jul2018_10:08:38_729916031L15.0445256978L105.381607651S233L233_MOD13Q1_site5', 'https://modis.ornl.gov/subsetdata/27Jul2018_10:08:41_079744289L24.6994635863L100.342017669S217L217_MOD13Q1_site6', 'https://modis.ornl.gov/subsetdata/27Jul2018_10:08:43_416901080L19.1697751277L99.8756950174S49L49_MOD13Q1_site7', 'https://modis.ornl.gov/subsetdata/27Jul2018_10:08:45_991999016L18.3097318397L103.682525571S57L57_MOD13Q1_site8', 'https://modis.ornl.gov/subsetdata/27Jul2018_10:08:48_355901216L18.2674423337L102.438165605S49L49_MOD13Q1_site9']\n"
     ]
    }
   ],
   "source": [
    "downloadTerraUrlList = GetModisData.createOrderURL(reservoirsGeoDataFrame=top3To10LargestReservoirs, \n",
    "                                                  modisProductCode='MOD13Q1',\n",
    "                                                  email='1512489@student.hcmus.edu.vn',\n",
    "                                                  recreateDownloadFile=False,\n",
    "                                                  downloadFileResult='3-7_MOD13Q1')"
   ]
  },
  {
   "cell_type": "code",
   "execution_count": 12,
   "metadata": {},
   "outputs": [
    {
     "name": "stdout",
     "output_type": "stream",
     "text": [
      "https://modis.ornl.gov/rst/api/v1/MYD13Q1/subsetOrder?latitude=12.909667465035685&longitude=104.04910517189141&email=1512489@student.hcmus.edu.vn&uid=site0&startDate=A2002185&endDate=A2018185&kmAboveBelow=64&kmLeftRight=64\n",
      "https://modis.ornl.gov/rst/api/v1/MYD13Q1/subsetOrder?latitude=25.78871606370018&longitude=100.1953318267777&email=1512489@student.hcmus.edu.vn&uid=site1&startDate=A2002185&endDate=A2018169&kmAboveBelow=24&kmLeftRight=24\n",
      "https://modis.ornl.gov/rst/api/v1/MYD13Q1/subsetOrder?latitude=18.586321530458974&longitude=102.63476005462799&email=1512489@student.hcmus.edu.vn&uid=site2&startDate=A2002185&endDate=A2018169&kmAboveBelow=37&kmLeftRight=37\n",
      "https://modis.ornl.gov/rst/api/v1/MYD13Q1/subsetOrder?latitude=16.729528722980266&longitude=102.53383782042863&email=1512489@student.hcmus.edu.vn&uid=site3&startDate=A2002185&endDate=A2018169&kmAboveBelow=31&kmLeftRight=31\n",
      "https://modis.ornl.gov/rst/api/v1/MYD13Q1/subsetOrder?latitude=16.748836915920027&longitude=103.43834851186996&email=1512489@student.hcmus.edu.vn&uid=site4&startDate=A2002185&endDate=A2018169&kmAboveBelow=37&kmLeftRight=37\n",
      "https://modis.ornl.gov/rst/api/v1/MYD13Q1/subsetOrder?latitude=15.044525697834212&longitude=105.3816076514864&email=1512489@student.hcmus.edu.vn&uid=site5&startDate=A2002185&endDate=A2018185&kmAboveBelow=29&kmLeftRight=29\n",
      "https://modis.ornl.gov/rst/api/v1/MYD13Q1/subsetOrder?latitude=24.699463586321087&longitude=100.34201766875154&email=1512489@student.hcmus.edu.vn&uid=site6&startDate=A2002185&endDate=A2018169&kmAboveBelow=27&kmLeftRight=27\n",
      "https://modis.ornl.gov/rst/api/v1/MYD13Q1/subsetOrder?latitude=19.169775127740934&longitude=99.87569501737315&email=1512489@student.hcmus.edu.vn&uid=site7&startDate=A2002185&endDate=A2018169&kmAboveBelow=6&kmLeftRight=6\n",
      "https://modis.ornl.gov/rst/api/v1/MYD13Q1/subsetOrder?latitude=18.30973183965102&longitude=103.68252557065354&email=1512489@student.hcmus.edu.vn&uid=site8&startDate=A2002185&endDate=A2018169&kmAboveBelow=7&kmLeftRight=7\n",
      "https://modis.ornl.gov/rst/api/v1/MYD13Q1/subsetOrder?latitude=18.267442333709127&longitude=102.43816560472207&email=1512489@student.hcmus.edu.vn&uid=site9&startDate=A2002185&endDate=A2018169&kmAboveBelow=6&kmLeftRight=6\n",
      "['https://modis.ornl.gov/subsetdata/27Jul2018_10:14:00_474228861L12.909667465L104.049105172S513L513_MYD13Q1_site0', 'https://modis.ornl.gov/subsetdata/27Jul2018_10:14:03_960237751L25.7887160637L100.195331827S193L193_MYD13Q1_site1', 'https://modis.ornl.gov/subsetdata/27Jul2018_10:14:07_218445333L18.5863215305L102.634760055S297L297_MYD13Q1_site2', 'https://modis.ornl.gov/subsetdata/27Jul2018_10:14:09_468542855L16.729528723L102.53383782S249L249_MYD13Q1_site3', 'https://modis.ornl.gov/subsetdata/27Jul2018_10:14:11_437297798L16.7488369159L103.438348512S297L297_MYD13Q1_site4', 'https://modis.ornl.gov/subsetdata/27Jul2018_10:14:13_443184355L15.0445256978L105.381607651S233L233_MYD13Q1_site5', 'https://modis.ornl.gov/subsetdata/27Jul2018_10:14:15_380914746L24.6994635863L100.342017669S217L217_MYD13Q1_site6', 'https://modis.ornl.gov/subsetdata/27Jul2018_10:14:17_333905147L19.1697751277L99.8756950174S49L49_MYD13Q1_site7', 'https://modis.ornl.gov/subsetdata/27Jul2018_10:14:19_272033897L18.3097318397L103.682525571S57L57_MYD13Q1_site8', 'https://modis.ornl.gov/subsetdata/27Jul2018_10:14:21_250883174L18.2674423337L102.438165605S49L49_MYD13Q1_site9']\n"
     ]
    }
   ],
   "source": [
    "downloadAquaUrlList = GetModisData.createOrderURL(reservoirsGeoDataFrame=top10LargestReservoirs, \n",
    "                                                  modisProductCode='MYD13Q1',\n",
    "                                                  email='1512489@student.hcmus.edu.vn',\n",
    "                                                  recreateDownloadFile=False)"
   ]
  },
  {
   "cell_type": "code",
   "execution_count": 14,
   "metadata": {},
   "outputs": [
    {
     "name": "stdout",
     "output_type": "stream",
     "text": [
      "https://modis.ornl.gov/rst/api/v1/MOD13Q1/subsetOrder?latitude=12.909667465035685&longitude=104.04910517189141&email=1512489@student.hcmus.edu.vn&uid=site0&startDate=A2000049&endDate=A2018177&kmAboveBelow=64&kmLeftRight=64\n",
      "https://modis.ornl.gov/rst/api/v1/MOD13Q1/subsetOrder?latitude=25.78871606370018&longitude=100.1953318267777&email=1512489@student.hcmus.edu.vn&uid=site1&startDate=A2000049&endDate=A2018177&kmAboveBelow=24&kmLeftRight=24\n",
      "\"1512489@student.hcmus.edu.vn has placed 21 orders today. Cannot place more than 20 orders a day through the Web Service.\"\n",
      "\n",
      "['https://modis.ornl.gov/subsetdata/27Jul2018_10:15:33_567417866L12.909667465L104.049105172S513L513_MOD13Q1_site0']\n"
     ]
    }
   ],
   "source": [
    "downloadTerraUrlList = GetModisData.createOrderURL(reservoirsGeoDataFrame=top3LargestReservoirs, \n",
    "                                                  modisProductCode='MOD13Q1',\n",
    "                                                  email='1512489@student.hcmus.edu.vn',\n",
    "                                                  recreateDownloadFile=False,\n",
    "                                                  downloadFileResult='MOD13Q1_1')"
   ]
  },
  {
   "cell_type": "code",
   "execution_count": null,
   "metadata": {},
   "outputs": [],
   "source": []
  }
 ],
 "metadata": {
  "kernelspec": {
   "display_name": "Python 3",
   "language": "python",
   "name": "python3"
  },
  "language_info": {
   "codemirror_mode": {
    "name": "ipython",
    "version": 3
   },
   "file_extension": ".py",
   "mimetype": "text/x-python",
   "name": "python",
   "nbconvert_exporter": "python",
   "pygments_lexer": "ipython3",
   "version": "3.6.5"
  }
 },
 "nbformat": 4,
 "nbformat_minor": 2
}
