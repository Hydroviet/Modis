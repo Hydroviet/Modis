{
 "cells": [
  {
   "cell_type": "code",
   "execution_count": 30,
   "metadata": {},
   "outputs": [],
   "source": [
    "import os\n",
    "import numpy as np\n",
    "import pandas as pd\n",
    "import csv"
   ]
  },
  {
   "cell_type": "code",
   "execution_count": 31,
   "metadata": {},
   "outputs": [],
   "source": [
    "np.random.seed(0)"
   ]
  },
  {
   "cell_type": "code",
   "execution_count": 32,
   "metadata": {},
   "outputs": [],
   "source": [
    "x = np.arange(10)"
   ]
  },
  {
   "cell_type": "code",
   "execution_count": 33,
   "metadata": {},
   "outputs": [],
   "source": [
    "def train_val_test_split(startYear=2001, endYear=2017, valPercent=0.2, testPercent=0.2):\n",
    "    assert(valPercent + testPercent < 1.0)\n",
    "    nYears = np.int32(endYear - startYear + 1)\n",
    "    nVal = np.ceil(valPercent*nYears).astype(np.int32)\n",
    "    nTest = np.ceil(testPercent*nYears).astype(np.int32)\n",
    "    nTrain = nYears - (nVal + nTest).astype(np.int32)\n",
    "    perm = np.random.permutation(np.arange(startYear, endYear+1))\n",
    "    train_year = perm[:nTrain]\n",
    "    val_year = perm[nTrain:nTrain + nVal]\n",
    "    test_year = perm[nYears - nTest:]\n",
    "    return train_year, val_year, test_year"
   ]
  },
  {
   "cell_type": "code",
   "execution_count": 34,
   "metadata": {},
   "outputs": [],
   "source": [
    "global global_train_year, global_val_year, global_test_year\n",
    "global_train_year, global_val_year, global_test_year = train_val_test_split(startYear=2001, \n",
    "                                                       endYear=2017, \n",
    "                                                       valPercent=0.2, \n",
    "                                                       testPercent=0.2)"
   ]
  },
  {
   "cell_type": "code",
   "execution_count": 35,
   "metadata": {},
   "outputs": [
    {
     "name": "stdout",
     "output_type": "stream",
     "text": [
      "[2002 2007 2009 2010 2014 2005 2003 2015 2011]\n",
      "[2008 2017 2012 2004]\n",
      "[2001 2006 2016 2013]\n"
     ]
    }
   ],
   "source": [
    "print(global_train_year)\n",
    "print(global_val_year)\n",
    "print(global_test_year)"
   ]
  },
  {
   "cell_type": "code",
   "execution_count": 36,
   "metadata": {},
   "outputs": [],
   "source": [
    "band_use = ['NIR']"
   ]
  },
  {
   "cell_type": "code",
   "execution_count": 37,
   "metadata": {},
   "outputs": [],
   "source": [
    "reservoirsUse = np.arange(1) # Tonlesap only"
   ]
  },
  {
   "cell_type": "code",
   "execution_count": 41,
   "metadata": {},
   "outputs": [],
   "source": [
    "def createFileData_1(dataDir, reservoirsUse, bandsUse, timeSteps, yearRange, inputFile, targetFile):\n",
    "    inputF = open(inputFile, \"w\")\n",
    "    targetF = open(targetFile, \"w\")\n",
    "    writerInput = csv.writer(inputF)\n",
    "    writertarget = csv.writer(targetF)\n",
    "    \n",
    "    timeSteps += 1\n",
    "    for reservoir in reservoirsUse:\n",
    "        for year in yearRange:\n",
    "            listFilesInWindow = []\n",
    "            yearDir = dataDir + '/' + str(reservoir) + '/' + str(year)\n",
    "            listFolders = os.listdir(yearDir)\n",
    "            listFolders = sorted(listFolders, key=lambda x: int(x))\n",
    "            \n",
    "            for i in np.arange(timeSteps):\n",
    "                folder = listFolders[i]\n",
    "                dayDir = yearDir + '/' + folder\n",
    "                listFiles = os.listdir(dayDir)\n",
    "                for band in bandsUse:\n",
    "                    for file in listFiles:\n",
    "                        if band in file:\n",
    "                            listFilesInWindow.append(dayDir + '/' + file)\n",
    "            writerInput.writerow(listFilesInWindow[:-1])\n",
    "            writertarget.writerow(listFilesInWindow[-1:])\n",
    "            \n",
    "            for i in np.arange(timeSteps, len(listFolders)):\n",
    "                folder = listFolders[i]\n",
    "                listFilesInWindow = listFilesInWindow[1:]\n",
    "                dayDir = yearDir + '/' + folder\n",
    "                listFiles = os.listdir(dayDir)\n",
    "                for band in bandsUse:\n",
    "                    for file in listFiles:\n",
    "                        if band in file:\n",
    "                            listFilesInWindow.append(dayDir + '/' + file)\n",
    "                writerInput.writerow(listFilesInWindow[:-1])\n",
    "                writertarget.writerow(listFilesInWindow[-1:])\n",
    "\n",
    "    inputF.close()\n",
    "    targetF.close()\n",
    "    \n",
    "    return listFilesInWindow"
   ]
  },
  {
   "cell_type": "code",
   "execution_count": 42,
   "metadata": {},
   "outputs": [],
   "source": [
    "def createFileData(dataDir, reservoirsUse, bandsUse, timeSteps, \n",
    "                   startYear=2001, endYear=2017, valPercent=0.2, testPercent=0.2):\n",
    "    train_year, test_year, val_year = global_train_year, global_val_year, global_test_year\n",
    "    print(train_year)\n",
    "    print(val_year)\n",
    "    print(test_year)\n",
    "    \n",
    "    if not os.path.isdir('data_file/{}'.format(timeSteps)):\n",
    "        os.mkdir('data_file/{}'.format(timeSteps))\n",
    "    \n",
    "    # train\n",
    "    createFileData_1(dataDir, reservoirsUse, bandsUse, timeSteps, train_year, \n",
    "                     'data_file/{}/train_data.csv'.format(timeSteps),\n",
    "                     'data_file/{}/train_target.csv'.format(timeSteps))\n",
    "    # val\n",
    "    createFileData_1(dataDir, reservoirsUse, bandsUse, timeSteps, val_year, \n",
    "                     'data_file/{}/val_data.csv'.format(timeSteps),\n",
    "                     'data_file/{}/val_target.csv'.format(timeSteps))\n",
    "    # test\n",
    "    createFileData_1(dataDir, reservoirsUse, bandsUse, timeSteps, test_year, \n",
    "                     'data_file/{}/test_data.csv'.format(timeSteps),\n",
    "                     'data_file/{}/test_target.csv'.format(timeSteps))"
   ]
  },
  {
   "cell_type": "code",
   "execution_count": 43,
   "metadata": {},
   "outputs": [
    {
     "name": "stdout",
     "output_type": "stream",
     "text": [
      "[2002 2007 2009 2010 2014 2005 2003 2015 2011]\n",
      "[2001 2006 2016 2013]\n",
      "[2008 2017 2012 2004]\n"
     ]
    }
   ],
   "source": [
    "createFileData(dataDir='MOD13Q1', reservoirsUse=[0], bandsUse=['NIR'], timeSteps=7)"
   ]
  },
  {
   "cell_type": "code",
   "execution_count": 44,
   "metadata": {},
   "outputs": [
    {
     "name": "stdout",
     "output_type": "stream",
     "text": [
      "[2002 2007 2009 2010 2014 2005 2003 2015 2011]\n",
      "[2001 2006 2016 2013]\n",
      "[2008 2017 2012 2004]\n"
     ]
    }
   ],
   "source": [
    "createFileData(dataDir='MOD13Q1', reservoirsUse=[0], bandsUse=['NIR'], timeSteps=10)"
   ]
  },
  {
   "cell_type": "code",
   "execution_count": 45,
   "metadata": {},
   "outputs": [
    {
     "name": "stdout",
     "output_type": "stream",
     "text": [
      "[2002 2007 2009 2010 2014 2005 2003 2015 2011]\n",
      "[2001 2006 2016 2013]\n",
      "[2008 2017 2012 2004]\n"
     ]
    }
   ],
   "source": [
    "createFileData(dataDir='MOD13Q1', reservoirsUse=[0], bandsUse=['NIR'], timeSteps=12)"
   ]
  },
  {
   "cell_type": "code",
   "execution_count": 46,
   "metadata": {},
   "outputs": [
    {
     "name": "stdout",
     "output_type": "stream",
     "text": [
      "[2002 2007 2009 2010 2014 2005 2003 2015 2011]\n",
      "[2001 2006 2016 2013]\n",
      "[2008 2017 2012 2004]\n"
     ]
    }
   ],
   "source": [
    "createFileData(dataDir='MOD13Q1', reservoirsUse=[0], bandsUse=['NIR'], timeSteps=15)"
   ]
  }
 ],
 "metadata": {
  "kernelspec": {
   "display_name": "Python 3",
   "language": "python",
   "name": "python3"
  },
  "language_info": {
   "codemirror_mode": {
    "name": "ipython",
    "version": 3
   },
   "file_extension": ".py",
   "mimetype": "text/x-python",
   "name": "python",
   "nbconvert_exporter": "python",
   "pygments_lexer": "ipython3",
   "version": "3.6.5"
  }
 },
 "nbformat": 4,
 "nbformat_minor": 2
}
