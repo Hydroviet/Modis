{
 "cells": [
  {
   "cell_type": "code",
   "execution_count": 25,
   "metadata": {},
   "outputs": [],
   "source": [
    "import os\n",
    "import numpy as np\n",
    "import pandas as pd\n",
    "import csv"
   ]
  },
  {
   "cell_type": "code",
   "execution_count": 26,
   "metadata": {},
   "outputs": [],
   "source": [
    "np.random.seed()"
   ]
  },
  {
   "cell_type": "code",
   "execution_count": 3,
   "metadata": {},
   "outputs": [],
   "source": [
    "x = np.arange(10)"
   ]
  },
  {
   "cell_type": "code",
   "execution_count": 4,
   "metadata": {},
   "outputs": [],
   "source": [
    "def train_val_test_split(startYear=2001, endYear=2017, valPercent=0.2, testPercent=0.2):\n",
    "    assert(valPercent + testPercent < 1.0)\n",
    "    nYears = np.int32(endYear - startYear + 1)\n",
    "    nVal = np.ceil(valPercent*nYears).astype(np.int32)\n",
    "    nTest = np.ceil(testPercent*nYears).astype(np.int32)\n",
    "    nTrain = nYears - (nVal + nTest).astype(np.int32)\n",
    "    perm = np.random.permutation(np.arange(startYear, endYear+1))\n",
    "    train_year = perm[:nTrain]\n",
    "    val_year = perm[nTrain:nTrain + nVal]\n",
    "    test_year = perm[nYears - nTest:]\n",
    "    return train_year, val_year, test_year"
   ]
  },
  {
   "cell_type": "code",
   "execution_count": 5,
   "metadata": {},
   "outputs": [],
   "source": [
    "train_year, val_year, test_year = train_val_test_split(startYear=2001, \n",
    "                                                       endYear=2017, \n",
    "                                                       valPercent=0.2, \n",
    "                                                       testPercent=0.2)"
   ]
  },
  {
   "cell_type": "code",
   "execution_count": 6,
   "metadata": {},
   "outputs": [
    {
     "name": "stdout",
     "output_type": "stream",
     "text": [
      "[2016 2002 2007 2011 2001 2006 2008 2014 2010]\n",
      "[2005 2004 2009 2015]\n",
      "[2017 2012 2013 2003]\n"
     ]
    }
   ],
   "source": [
    "print(train_year)\n",
    "print(val_year)\n",
    "print(test_year)"
   ]
  },
  {
   "cell_type": "code",
   "execution_count": 7,
   "metadata": {},
   "outputs": [],
   "source": [
    "band_use = ['NIR']"
   ]
  },
  {
   "cell_type": "code",
   "execution_count": 8,
   "metadata": {},
   "outputs": [],
   "source": [
    "reservoirsUse = np.arange(1) # Tonlesap only"
   ]
  },
  {
   "cell_type": "code",
   "execution_count": 85,
   "metadata": {},
   "outputs": [],
   "source": [
    "def createFileData_1(dataDir, reservoirsUse, bandsUse, windowSize, yearRange, inputFile, labelFile):\n",
    "    inputF = open(inputFile, \"w\")\n",
    "    labelF = open(labelFile, \"w\")\n",
    "    writerInput = csv.writer(inputF)\n",
    "    writerLabel = csv.writer(labelF)\n",
    "    \n",
    "    for reservoir in reservoirsUse:\n",
    "        for year in yearRange:\n",
    "            listFilesInWindow = []\n",
    "            yearDir = dataDir + '/' + str(reservoir) + '/' + str(year)\n",
    "            listFolders = os.listdir(yearDir)\n",
    "            listFolders = sorted(listFolders, key=lambda x: int(x))\n",
    "            \n",
    "            for i in np.arange(windowSize):\n",
    "                folder = listFolders[i]\n",
    "                dayDir = yearDir + '/' + folder\n",
    "                listFiles = os.listdir(dayDir)\n",
    "                for band in bandsUse:\n",
    "                    for file in listFiles:\n",
    "                        if band in file:\n",
    "                            listFilesInWindow.append(dayDir + '/' + file)\n",
    "            writerInput.writerow(listFilesInWindow[:-1])\n",
    "            writerLabel.writerow(listFilesInWindow[-1:])\n",
    "            \n",
    "            for i in np.arange(windowSize, len(listFolders)):\n",
    "                folder = listFolders[i]\n",
    "                listFilesInWindow = listFilesInWindow[1:]\n",
    "                dayDir = yearDir + '/' + folder\n",
    "                listFiles = os.listdir(dayDir)\n",
    "                for band in bandsUse:\n",
    "                    for file in listFiles:\n",
    "                        if band in file:\n",
    "                            listFilesInWindow.append(dayDir + '/' + file)\n",
    "                writerInput.writerow(listFilesInWindow[:-1])\n",
    "                writerLabel.writerow(listFilesInWindow[-1:])\n",
    "\n",
    "    inputF.close()\n",
    "    labelF.close()\n",
    "    \n",
    "    return listFilesInWindow"
   ]
  },
  {
   "cell_type": "code",
   "execution_count": 21,
   "metadata": {},
   "outputs": [],
   "source": [
    "def createFileData_2(dataDir, reservoirsUse, bandsUse, windowSize, yearRange, inputFile, targetFile):\n",
    "    inputF = open(inputFile, \"w\")\n",
    "    targetF = open(targetFile, \"w\")\n",
    "    writerInput = csv.writer(inputF)\n",
    "    writerTarget = csv.writer(targetF)\n",
    "    \n",
    "    for reservoir in reservoirsUse:\n",
    "        for year in yearRange:\n",
    "            listFilesInWindow = []\n",
    "            yearDir = dataDir + '/' + str(reservoir) + '/' + str(year)\n",
    "            listFolders = os.listdir(yearDir)\n",
    "            listFolders = sorted(listFolders, key=lambda x: int(x))\n",
    "            \n",
    "            listInput = []\n",
    "            for i in np.arange(len(listFolders) - 1):\n",
    "                folder = listFolders[i]\n",
    "                dayDir = yearDir + '/' + folder\n",
    "                listFiles = os.listdir(dayDir)\n",
    "                for band in bandsUse:\n",
    "                    for file in listFiles:\n",
    "                        if band in file:\n",
    "                            listInput.append(dayDir + '/' + file)\n",
    "            writerInput.writerow(listInput)\n",
    "            \n",
    "            listTarget = []\n",
    "            for i in np.arange(windowSize, len(listFolders)):\n",
    "                folder = listFolders[i]\n",
    "                dayDir = yearDir + '/' + folder\n",
    "                listFiles = os.listdir(dayDir)\n",
    "                for band in bandsUse:\n",
    "                    for file in listFiles:\n",
    "                        if band in file:\n",
    "                            listTarget.append(dayDir + '/' + file)\n",
    "            writerTarget.writerow(listTarget)\n",
    "\n",
    "    inputF.close()\n",
    "    targetF.close()\n",
    "    \n",
    "    return listInput"
   ]
  },
  {
   "cell_type": "code",
   "execution_count": 23,
   "metadata": {},
   "outputs": [
    {
     "name": "stdout",
     "output_type": "stream",
     "text": [
      "['MOD13Q1/0/2010/2010001/MOD13Q1.A2010001.h28v07.006.2015198101035_250m_16_days_NIR_reflectance.tif', 'MOD13Q1/0/2010/2010017/MOD13Q1.A2010017.h28v07.006.2015198193932_250m_16_days_NIR_reflectance.tif', 'MOD13Q1/0/2010/2010033/MOD13Q1.A2010033.h28v07.006.2015199115526_250m_16_days_NIR_reflectance.tif', 'MOD13Q1/0/2010/2010049/MOD13Q1.A2010049.h28v07.006.2015200022321_250m_16_days_NIR_reflectance.tif', 'MOD13Q1/0/2010/2010065/MOD13Q1.A2010065.h28v07.006.2015206075302_250m_16_days_NIR_reflectance.tif', 'MOD13Q1/0/2010/2010081/MOD13Q1.A2010081.h28v07.006.2015206075615_250m_16_days_NIR_reflectance.tif', 'MOD13Q1/0/2010/2010097/MOD13Q1.A2010097.h28v07.006.2015206224734_250m_16_days_NIR_reflectance.tif', 'MOD13Q1/0/2010/2010113/MOD13Q1.A2010113.h28v07.006.2015207160846_250m_16_days_NIR_reflectance.tif', 'MOD13Q1/0/2010/2010129/MOD13Q1.A2010129.h28v07.006.2015207185944_250m_16_days_NIR_reflectance.tif', 'MOD13Q1/0/2010/2010145/MOD13Q1.A2010145.h28v07.006.2015208145544_250m_16_days_NIR_reflectance.tif', 'MOD13Q1/0/2010/2010161/MOD13Q1.A2010161.h28v07.006.2015208190844_250m_16_days_NIR_reflectance.tif', 'MOD13Q1/0/2010/2010177/MOD13Q1.A2010177.h28v07.006.2015208201115_250m_16_days_NIR_reflectance.tif', 'MOD13Q1/0/2010/2010193/MOD13Q1.A2010193.h28v07.006.2015209100413_250m_16_days_NIR_reflectance.tif', 'MOD13Q1/0/2010/2010209/MOD13Q1.A2010209.h28v07.006.2015209145350_250m_16_days_NIR_reflectance.tif', 'MOD13Q1/0/2010/2010225/MOD13Q1.A2010225.h28v07.006.2015210084111_250m_16_days_NIR_reflectance.tif', 'MOD13Q1/0/2010/2010241/MOD13Q1.A2010241.h28v07.006.2015210095437_250m_16_days_NIR_reflectance.tif', 'MOD13Q1/0/2010/2010257/MOD13Q1.A2010257.h28v07.006.2015211022510_250m_16_days_NIR_reflectance.tif', 'MOD13Q1/0/2010/2010273/MOD13Q1.A2010273.h28v07.006.2015211140753_250m_16_days_NIR_reflectance.tif', 'MOD13Q1/0/2010/2010289/MOD13Q1.A2010289.h28v07.006.2015211225710_250m_16_days_NIR_reflectance.tif', 'MOD13Q1/0/2010/2010305/MOD13Q1.A2010305.h28v07.006.2015213071204_250m_16_days_NIR_reflectance.tif', 'MOD13Q1/0/2010/2010321/MOD13Q1.A2010321.h28v07.006.2015213085317_250m_16_days_NIR_reflectance.tif', 'MOD13Q1/0/2010/2010337/MOD13Q1.A2010337.h28v07.006.2015213170137_250m_16_days_NIR_reflectance.tif']\n"
     ]
    }
   ],
   "source": [
    "print(createFileData_2(dataDir='MOD13Q1', reservoirsUse=[0], bandsUse=['NIR'], windowSize=7,\n",
    "                       yearRange=train_year, inputFile='train_data.csv', targetFile='train_target.csv'))"
   ]
  },
  {
   "cell_type": "code",
   "execution_count": 27,
   "metadata": {},
   "outputs": [
    {
     "name": "stdout",
     "output_type": "stream",
     "text": [
      "[2009 2007 2013 2011 2012 2017 2004 2016 2001]\n",
      "[2006 2005 2002 2003]\n",
      "[2008 2014 2010 2015]\n"
     ]
    }
   ],
   "source": [
    "def createFileData(dataDir, reservoirsUse, bandsUse, windowSize, \n",
    "                   startYear=2001, endYear=2017, valPercent=0.2, testPercent=0.2):\n",
    "    train_year, test_year, val_year = train_val_test_split(startYear, endYear, valPercent, testPercent)\n",
    "    print(train_year)\n",
    "    print(val_year)\n",
    "    print(test_year)\n",
    "    # train\n",
    "    createFileData_2(dataDir, reservoirsUse, bandsUse, windowSize, \n",
    "                     train_year, 'train_data.csv', 'train_target.csv')\n",
    "    # val\n",
    "    createFileData_2(dataDir, reservoirsUse, bandsUse, windowSize, \n",
    "                     val_year, 'val_data.csv', 'val_target.csv')\n",
    "    # test\n",
    "    createFileData_2(dataDir, reservoirsUse, bandsUse, windowSize, \n",
    "                     test_year, 'test_data.csv', 'test_target.csv')\n",
    "    \n",
    "createFileData(dataDir='MOD13Q1', reservoirsUse=[0], bandsUse=['NIR'], windowSize=7)"
   ]
  },
  {
   "cell_type": "code",
   "execution_count": null,
   "metadata": {},
   "outputs": [],
   "source": []
  }
 ],
 "metadata": {
  "kernelspec": {
   "display_name": "Python 3",
   "language": "python",
   "name": "python3"
  },
  "language_info": {
   "codemirror_mode": {
    "name": "ipython",
    "version": 3
   },
   "file_extension": ".py",
   "mimetype": "text/x-python",
   "name": "python",
   "nbconvert_exporter": "python",
   "pygments_lexer": "ipython3",
   "version": "3.6.5"
  }
 },
 "nbformat": 4,
 "nbformat_minor": 2
}
